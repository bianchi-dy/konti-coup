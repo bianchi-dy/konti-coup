{
 "cells": [
  {
   "cell_type": "code",
   "execution_count": 75,
   "metadata": {},
   "outputs": [
    {
     "data": {
      "text/plain": [
       "Index(['Unnamed: 0', 'COW', 'Old Coup ID#', 'New Coup ID#', 'country', 'Month',\n",
       "       'Day', 'Year', 'Coup ID Type', 'Description of Event',\n",
       "       'Milan Description', 'Realized', 'Unrealized', 'Removed/ Targeted Name',\n",
       "       'Removed Title/ Position', 'Initiator/ Suspected',\n",
       "       'Ascended Name/ Suspected', 'Ascended/ Suspected Title/ Position',\n",
       "       'Event Summary', 'iso2', 'continent', 'datetime'],\n",
       "      dtype='object')"
      ]
     },
     "execution_count": 75,
     "metadata": {},
     "output_type": "execute_result"
    }
   ],
   "source": [
    "import pandas as pd\n",
    "import pycountry as pyc\n",
    "import pycountry_convert as pycc\n",
    "import numpy as np\n",
    "import re\n",
    "\n",
    "df = pd.read_csv('coup_data.csv')#, keep_date_col=True, parse_dates= {\"date\" : [\"Year\",\"Month\",\"Day\"]})\n",
    "\n",
    "df.keys()"
   ]
  },
  {
   "cell_type": "code",
   "execution_count": 97,
   "metadata": {},
   "outputs": [],
   "source": [
    "df = df.rename(columns={'Description of Event': 'event', 'Coup ID Type': 'coup_id', 'Year': 'year',\\\n",
    "                        'Month': 'month', 'Day': 'day', 'Realized': 'realized'})"
   ]
  },
  {
   "cell_type": "code",
   "execution_count": 98,
   "metadata": {},
   "outputs": [
    {
     "data": {
      "text/plain": [
       "(array(['Coup', '0', 'Civil War', 'Foreign', 'Counter-Coup', 'Palace Coup',\n",
       "        'Revolt', 'Palace Coup/ Auto Coup', 'Palace Coup/Auto Coup',\n",
       "        'Auto-Coup', nan], dtype=object),\n",
       " array(['coup', 'attempted coup', 'conspiracy coup', 'coup attempt',\n",
       "        'auto coup'], dtype=object))"
      ]
     },
     "execution_count": 98,
     "metadata": {},
     "output_type": "execute_result"
    }
   ],
   "source": [
    "df['coup_id'].unique(), df['event'].unique()"
   ]
  },
  {
   "cell_type": "code",
   "execution_count": 99,
   "metadata": {},
   "outputs": [],
   "source": [
    "df = df.dropna(subset=['event', 'iso2'], thresh=2)"
   ]
  },
  {
   "cell_type": "code",
   "execution_count": 100,
   "metadata": {},
   "outputs": [],
   "source": [
    "def get_continent(iso2):\n",
    "    continent = pycc.country_alpha2_to_continent_code(iso2)\n",
    "    return continent"
   ]
  },
  {
   "cell_type": "code",
   "execution_count": 101,
   "metadata": {},
   "outputs": [
    {
     "data": {
      "text/plain": [
       "array(['AS', 'EU', 'AF', 'SA', 'NA', 'OC'], dtype=object)"
      ]
     },
     "execution_count": 101,
     "metadata": {},
     "output_type": "execute_result"
    }
   ],
   "source": [
    "df['continent'] = df.apply(lambda r: get_continent(r.iso2), axis=1)\n",
    "df['continent'].unique()"
   ]
  },
  {
   "cell_type": "code",
   "execution_count": 102,
   "metadata": {},
   "outputs": [
    {
     "data": {
      "text/plain": [
       "array([], dtype=object)"
      ]
     },
     "execution_count": 102,
     "metadata": {},
     "output_type": "execute_result"
    }
   ],
   "source": [
    "check = df[df.continent.isin(['AS', 'EU', 'AF', 'SA', 'OC', 'NA']) == False]\n",
    "check['country'].unique()"
   ]
  },
  {
   "cell_type": "code",
   "execution_count": 103,
   "metadata": {},
   "outputs": [
    {
     "data": {
      "text/plain": [
       "949"
      ]
     },
     "execution_count": 103,
     "metadata": {},
     "output_type": "execute_result"
    }
   ],
   "source": [
    "df = df.dropna(subset=['event', 'continent', 'year', 'month', 'day'], thresh=5)\n",
    "len(df)"
   ]
  },
  {
   "cell_type": "code",
   "execution_count": 104,
   "metadata": {},
   "outputs": [],
   "source": [
    "def get_digit(string):\n",
    "    #print(string)\n",
    "    try:\n",
    "        text = ''.join(ch for ch in string if ch.isdigit())\n",
    "        print (text)\n",
    "        return int(text)\n",
    "    except:\n",
    "        return int(string)"
   ]
  },
  {
   "cell_type": "code",
   "execution_count": 105,
   "metadata": {},
   "outputs": [],
   "source": [
    "df['year'] = df.apply(lambda r:  get_digit(r.year), axis=1)\n",
    "df['month'] = df.apply(lambda r: get_digit(r.month), axis=1)\n",
    "df['day'] = df.apply(lambda r:  get_digit(r.day), axis=1)"
   ]
  },
  {
   "cell_type": "code",
   "execution_count": 106,
   "metadata": {},
   "outputs": [
    {
     "data": {
      "text/plain": [
       "949"
      ]
     },
     "execution_count": 106,
     "metadata": {},
     "output_type": "execute_result"
    }
   ],
   "source": [
    "df= df[df['year'] > 1900]\n",
    "\n",
    "len(df)"
   ]
  },
  {
   "cell_type": "code",
   "execution_count": 107,
   "metadata": {},
   "outputs": [
    {
     "data": {
      "text/plain": [
       "array(['coup', 'attempted coup', 'conspiracy coup', 'coup attempt',\n",
       "       'auto coup'], dtype=object)"
      ]
     },
     "execution_count": 107,
     "metadata": {},
     "output_type": "execute_result"
    }
   ],
   "source": [
    "df['event'].unique()"
   ]
  },
  {
   "cell_type": "code",
   "execution_count": 108,
   "metadata": {},
   "outputs": [
    {
     "data": {
      "text/plain": [
       "array(['coup', 'attempted coup', 'conspiracy coup', 'coup attempt',\n",
       "       'auto coup'], dtype=object)"
      ]
     },
     "execution_count": 108,
     "metadata": {},
     "output_type": "execute_result"
    }
   ],
   "source": [
    "df['event'] = df.apply(lambda r: r.event.lower(),axis=1)\n",
    "df['event'].unique()"
   ]
  },
  {
   "cell_type": "code",
   "execution_count": 109,
   "metadata": {},
   "outputs": [
    {
     "data": {
      "text/plain": [
       "Index(['Unnamed: 0', 'COW', 'Old Coup ID#', 'New Coup ID#', 'country', 'month',\n",
       "       'day', 'year', 'coup_id', 'event', 'Milan Description', 'realized',\n",
       "       'Unrealized', 'Removed/ Targeted Name', 'Removed Title/ Position',\n",
       "       'Initiator/ Suspected', 'Ascended Name/ Suspected',\n",
       "       'Ascended/ Suspected Title/ Position', 'Event Summary', 'iso2',\n",
       "       'continent', 'datetime', 'date'],\n",
       "      dtype='object')"
      ]
     },
     "execution_count": 109,
     "metadata": {},
     "output_type": "execute_result"
    }
   ],
   "source": [
    "df.keys()"
   ]
  },
  {
   "cell_type": "code",
   "execution_count": 110,
   "metadata": {},
   "outputs": [
    {
     "data": {
      "text/html": [
       "<div>\n",
       "<style scoped>\n",
       "    .dataframe tbody tr th:only-of-type {\n",
       "        vertical-align: middle;\n",
       "    }\n",
       "\n",
       "    .dataframe tbody tr th {\n",
       "        vertical-align: top;\n",
       "    }\n",
       "\n",
       "    .dataframe thead th {\n",
       "        text-align: right;\n",
       "    }\n",
       "</style>\n",
       "<table border=\"1\" class=\"dataframe\">\n",
       "  <thead>\n",
       "    <tr style=\"text-align: right;\">\n",
       "      <th></th>\n",
       "      <th>year</th>\n",
       "      <th>month</th>\n",
       "      <th>day</th>\n",
       "    </tr>\n",
       "  </thead>\n",
       "  <tbody>\n",
       "    <tr>\n",
       "      <th>0</th>\n",
       "      <td>1963</td>\n",
       "      <td>3</td>\n",
       "      <td>10</td>\n",
       "    </tr>\n",
       "    <tr>\n",
       "      <th>1</th>\n",
       "      <td>1973</td>\n",
       "      <td>7</td>\n",
       "      <td>17</td>\n",
       "    </tr>\n",
       "    <tr>\n",
       "      <th>2</th>\n",
       "      <td>1973</td>\n",
       "      <td>9</td>\n",
       "      <td>20</td>\n",
       "    </tr>\n",
       "    <tr>\n",
       "      <th>3</th>\n",
       "      <td>1973</td>\n",
       "      <td>11</td>\n",
       "      <td>30</td>\n",
       "    </tr>\n",
       "    <tr>\n",
       "      <th>4</th>\n",
       "      <td>1973</td>\n",
       "      <td>12</td>\n",
       "      <td>0</td>\n",
       "    </tr>\n",
       "    <tr>\n",
       "      <th>...</th>\n",
       "      <td>...</td>\n",
       "      <td>...</td>\n",
       "      <td>...</td>\n",
       "    </tr>\n",
       "    <tr>\n",
       "      <th>1053</th>\n",
       "      <td>1993</td>\n",
       "      <td>3</td>\n",
       "      <td>0</td>\n",
       "    </tr>\n",
       "    <tr>\n",
       "      <th>1054</th>\n",
       "      <td>1997</td>\n",
       "      <td>10</td>\n",
       "      <td>28</td>\n",
       "    </tr>\n",
       "    <tr>\n",
       "      <th>1055</th>\n",
       "      <td>1995</td>\n",
       "      <td>10</td>\n",
       "      <td>0</td>\n",
       "    </tr>\n",
       "    <tr>\n",
       "      <th>1056</th>\n",
       "      <td>1998</td>\n",
       "      <td>12</td>\n",
       "      <td>0</td>\n",
       "    </tr>\n",
       "    <tr>\n",
       "      <th>1057</th>\n",
       "      <td>2001</td>\n",
       "      <td>5</td>\n",
       "      <td>0</td>\n",
       "    </tr>\n",
       "  </tbody>\n",
       "</table>\n",
       "<p>949 rows × 3 columns</p>\n",
       "</div>"
      ],
      "text/plain": [
       "      year  month  day\n",
       "0     1963      3   10\n",
       "1     1973      7   17\n",
       "2     1973      9   20\n",
       "3     1973     11   30\n",
       "4     1973     12    0\n",
       "...    ...    ...  ...\n",
       "1053  1993      3    0\n",
       "1054  1997     10   28\n",
       "1055  1995     10    0\n",
       "1056  1998     12    0\n",
       "1057  2001      5    0\n",
       "\n",
       "[949 rows x 3 columns]"
      ]
     },
     "execution_count": 110,
     "metadata": {},
     "output_type": "execute_result"
    }
   ],
   "source": [
    "cols=['year', 'month', 'day']\n",
    "df[cols]"
   ]
  },
  {
   "cell_type": "code",
   "execution_count": 111,
   "metadata": {},
   "outputs": [
    {
     "data": {
      "text/plain": [
       "949"
      ]
     },
     "execution_count": 111,
     "metadata": {},
     "output_type": "execute_result"
    }
   ],
   "source": [
    "df = df[(df['month']) != 0 & (df['day'] != 0)]\n",
    "len(df)"
   ]
  },
  {
   "cell_type": "code",
   "execution_count": 112,
   "metadata": {},
   "outputs": [],
   "source": [
    "def get_date(row):\n",
    "    datetime = str(row[cols[0]]) + '-' + str(row[cols[1]]) #+ '-' + str(row[cols[2]])\n",
    "    return datetime\n"
   ]
  },
  {
   "cell_type": "code",
   "execution_count": 113,
   "metadata": {},
   "outputs": [
    {
     "data": {
      "text/plain": [
       "0      1963-03-01\n",
       "1      1973-07-01\n",
       "2      1973-09-01\n",
       "3      1973-11-01\n",
       "4      1973-12-01\n",
       "          ...    \n",
       "1053   1993-03-01\n",
       "1054   1997-10-01\n",
       "1055   1995-10-01\n",
       "1056   1998-12-01\n",
       "1057   2001-05-01\n",
       "Name: datetime, Length: 949, dtype: datetime64[ns]"
      ]
     },
     "execution_count": 113,
     "metadata": {},
     "output_type": "execute_result"
    }
   ],
   "source": [
    "df['date'] = df.apply(lambda r: get_date(r), axis=1)\n",
    "df['datetime']=pd.to_datetime(df['date'])\n",
    "df['datetime']"
   ]
  },
  {
   "cell_type": "markdown",
   "metadata": {},
   "source": [
    "## Successful coup?"
   ]
  },
  {
   "cell_type": "code",
   "execution_count": 115,
   "metadata": {},
   "outputs": [],
   "source": [
    "df['realized'] = df.apply(lambda r: 'Yes' if r.realized == 1.0 else 'No', axis=1)"
   ]
  },
  {
   "cell_type": "code",
   "execution_count": 116,
   "metadata": {},
   "outputs": [
    {
     "data": {
      "text/plain": [
       "0       Yes\n",
       "1       Yes\n",
       "2        No\n",
       "3        No\n",
       "4        No\n",
       "       ... \n",
       "1053     No\n",
       "1054     No\n",
       "1055     No\n",
       "1056     No\n",
       "1057     No\n",
       "Name: realized, Length: 949, dtype: object"
      ]
     },
     "execution_count": 116,
     "metadata": {},
     "output_type": "execute_result"
    }
   ],
   "source": [
    "df['realized']"
   ]
  },
  {
   "cell_type": "markdown",
   "metadata": {},
   "source": [
    "## SWARMPLOT"
   ]
  },
  {
   "cell_type": "code",
   "execution_count": 122,
   "metadata": {},
   "outputs": [
    {
     "data": {
      "image/png": "[encoded data removed]",
      "text/plain": [
       "<Figure size 1440x720 with 1 Axes>"
      ]
     },
     "metadata": {
      "needs_background": "light"
     },
     "output_type": "display_data"
    }
   ],
   "source": [
    "import seaborn as sns\n",
    "#sns.set_theme(style=\"whitegrid\")\n",
    "# tips = sns.load_dataset(\"tips\")\n",
    "import matplotlib.pyplot as plt\n",
    "fig, ax = plt.subplots(1,1, figsize=(20, 10))\n",
    "ax = sns.swarmplot(x=\"datetime\", y=\"continent\", data=df, hue=\"realized\")"
   ]
  },
  {
   "cell_type": "markdown",
   "metadata": {},
   "source": [
    "## Asia only"
   ]
  },
  {
   "cell_type": "code",
   "execution_count": 133,
   "metadata": {},
   "outputs": [
    {
     "data": {
      "text/plain": [
       "244"
      ]
     },
     "execution_count": 133,
     "metadata": {},
     "output_type": "execute_result"
    }
   ],
   "source": [
    "asia = df[df.continent =='AS']\n",
    "len(asia)"
   ]
  },
  {
   "cell_type": "code",
   "execution_count": 140,
   "metadata": {},
   "outputs": [
    {
     "data": {
      "image/png": "[encoded data removed]",
      "text/plain": [
       "<Figure size 1440x720 with 1 Axes>"
      ]
     },
     "metadata": {
      "needs_background": "light"
     },
     "output_type": "display_data"
    }
   ],
   "source": [
    "fig, ax = plt.subplots(1,1, figsize=(20, 10))\n",
    "ax = sns.swarmplot(x=\"datetime\", y=\"country\", data=asia, hue=\"realized\",  size=7)\n",
    "plt.grid()"
   ]
  },
  {
   "cell_type": "code",
   "execution_count": 135,
   "metadata": {},
   "outputs": [],
   "source": [
    "sea = ['Thailand', 'Myanmar', 'Philippines', 'Malaysia', 'Indonesia', 'Cambodia', 'Cambodia', 'Laos', 'Brunei', 'Singapore']"
   ]
  },
  {
   "cell_type": "code",
   "execution_count": 136,
   "metadata": {},
   "outputs": [
    {
     "data": {
      "text/html": [
       "<div>\n",
       "<style scoped>\n",
       "    .dataframe tbody tr th:only-of-type {\n",
       "        vertical-align: middle;\n",
       "    }\n",
       "\n",
       "    .dataframe tbody tr th {\n",
       "        vertical-align: top;\n",
       "    }\n",
       "\n",
       "    .dataframe thead th {\n",
       "        text-align: right;\n",
       "    }\n",
       "</style>\n",
       "<table border=\"1\" class=\"dataframe\">\n",
       "  <thead>\n",
       "    <tr style=\"text-align: right;\">\n",
       "      <th></th>\n",
       "      <th>Unnamed: 0</th>\n",
       "      <th>COW</th>\n",
       "      <th>Old Coup ID#</th>\n",
       "      <th>New Coup ID#</th>\n",
       "      <th>country</th>\n",
       "      <th>month</th>\n",
       "      <th>day</th>\n",
       "      <th>year</th>\n",
       "      <th>coup_id</th>\n",
       "      <th>event</th>\n",
       "      <th>...</th>\n",
       "      <th>Removed/ Targeted Name</th>\n",
       "      <th>Removed Title/ Position</th>\n",
       "      <th>Initiator/ Suspected</th>\n",
       "      <th>Ascended Name/ Suspected</th>\n",
       "      <th>Ascended/ Suspected Title/ Position</th>\n",
       "      <th>Event Summary</th>\n",
       "      <th>iso2</th>\n",
       "      <th>continent</th>\n",
       "      <th>datetime</th>\n",
       "      <th>date</th>\n",
       "    </tr>\n",
       "  </thead>\n",
       "  <tbody>\n",
       "    <tr>\n",
       "      <th>0</th>\n",
       "      <td>1</td>\n",
       "      <td>700.0</td>\n",
       "      <td>70031063</td>\n",
       "      <td>7.000310e+10</td>\n",
       "      <td>Afghanistan</td>\n",
       "      <td>3</td>\n",
       "      <td>10</td>\n",
       "      <td>1963</td>\n",
       "      <td>Coup</td>\n",
       "      <td>coup</td>\n",
       "      <td>...</td>\n",
       "      <td>Sardar Mohammad Daoud</td>\n",
       "      <td>prime minister</td>\n",
       "      <td>Zahir Shah</td>\n",
       "      <td>King Mohammud Zahir Shah</td>\n",
       "      <td>royal ruler</td>\n",
       "      <td>A policy dispute resulted in the forced resign...</td>\n",
       "      <td>AF</td>\n",
       "      <td>AS</td>\n",
       "      <td>1963-03-01</td>\n",
       "      <td>1963-3</td>\n",
       "    </tr>\n",
       "    <tr>\n",
       "      <th>1</th>\n",
       "      <td>2</td>\n",
       "      <td>700.0</td>\n",
       "      <td>70071773</td>\n",
       "      <td>7.000717e+10</td>\n",
       "      <td>Afghanistan</td>\n",
       "      <td>7</td>\n",
       "      <td>17</td>\n",
       "      <td>1973</td>\n",
       "      <td>Coup</td>\n",
       "      <td>coup</td>\n",
       "      <td>...</td>\n",
       "      <td>King Mohammud Zahir Shah</td>\n",
       "      <td>royal ruler</td>\n",
       "      <td>General Mohammud Daoud Khan</td>\n",
       "      <td>General Mohammud Daoud Khan</td>\n",
       "      <td>president</td>\n",
       "      <td>General Mohammud Daoud Khan overthrew the mona...</td>\n",
       "      <td>AF</td>\n",
       "      <td>AS</td>\n",
       "      <td>1973-07-01</td>\n",
       "      <td>1973-7</td>\n",
       "    </tr>\n",
       "    <tr>\n",
       "      <th>2</th>\n",
       "      <td>3</td>\n",
       "      <td>700.0</td>\n",
       "      <td>70092073</td>\n",
       "      <td>7.000920e+10</td>\n",
       "      <td>Afghanistan</td>\n",
       "      <td>9</td>\n",
       "      <td>20</td>\n",
       "      <td>1973</td>\n",
       "      <td>0</td>\n",
       "      <td>attempted coup</td>\n",
       "      <td>...</td>\n",
       "      <td>General Mohammud Daoud Khan</td>\n",
       "      <td>president</td>\n",
       "      <td>Mohammed Maiwandwal, Gen. Abdul Razak, Gen. Kh...</td>\n",
       "      <td>.</td>\n",
       "      <td>.</td>\n",
       "      <td>Former Prime Minister Maiwandwal and several m...</td>\n",
       "      <td>AF</td>\n",
       "      <td>AS</td>\n",
       "      <td>1973-09-01</td>\n",
       "      <td>1973-9</td>\n",
       "    </tr>\n",
       "    <tr>\n",
       "      <th>3</th>\n",
       "      <td>4</td>\n",
       "      <td>700.0</td>\n",
       "      <td>700113073</td>\n",
       "      <td>7.001130e+10</td>\n",
       "      <td>Afghanistan</td>\n",
       "      <td>11</td>\n",
       "      <td>30</td>\n",
       "      <td>1973</td>\n",
       "      <td>0</td>\n",
       "      <td>attempted coup</td>\n",
       "      <td>...</td>\n",
       "      <td>General Mohammud Daoud Khan</td>\n",
       "      <td>president</td>\n",
       "      <td>Gen. Mir Ahmed Shah</td>\n",
       "      <td>.</td>\n",
       "      <td>.</td>\n",
       "      <td>A General Mir Ahmed Shah attempted a coup agai...</td>\n",
       "      <td>AF</td>\n",
       "      <td>AS</td>\n",
       "      <td>1973-11-01</td>\n",
       "      <td>1973-11</td>\n",
       "    </tr>\n",
       "    <tr>\n",
       "      <th>4</th>\n",
       "      <td>5</td>\n",
       "      <td>700.0</td>\n",
       "      <td>70012.1973</td>\n",
       "      <td>7.001200e+10</td>\n",
       "      <td>Afghanistan</td>\n",
       "      <td>12</td>\n",
       "      <td>0</td>\n",
       "      <td>1973</td>\n",
       "      <td>0</td>\n",
       "      <td>attempted coup</td>\n",
       "      <td>...</td>\n",
       "      <td>General Mohammud Daoud Khan</td>\n",
       "      <td>president</td>\n",
       "      <td>not specified</td>\n",
       "      <td>.</td>\n",
       "      <td>.</td>\n",
       "      <td>Unspecified individuals attempted to overthrow...</td>\n",
       "      <td>AF</td>\n",
       "      <td>AS</td>\n",
       "      <td>1973-12-01</td>\n",
       "      <td>1973-12</td>\n",
       "    </tr>\n",
       "    <tr>\n",
       "      <th>...</th>\n",
       "      <td>...</td>\n",
       "      <td>...</td>\n",
       "      <td>...</td>\n",
       "      <td>...</td>\n",
       "      <td>...</td>\n",
       "      <td>...</td>\n",
       "      <td>...</td>\n",
       "      <td>...</td>\n",
       "      <td>...</td>\n",
       "      <td>...</td>\n",
       "      <td>...</td>\n",
       "      <td>...</td>\n",
       "      <td>...</td>\n",
       "      <td>...</td>\n",
       "      <td>...</td>\n",
       "      <td>...</td>\n",
       "      <td>...</td>\n",
       "      <td>...</td>\n",
       "      <td>...</td>\n",
       "      <td>...</td>\n",
       "      <td>...</td>\n",
       "    </tr>\n",
       "    <tr>\n",
       "      <th>1016</th>\n",
       "      <td>1018</td>\n",
       "      <td>640.0</td>\n",
       "      <td>64031271</td>\n",
       "      <td>6.400312e+10</td>\n",
       "      <td>Turkey</td>\n",
       "      <td>3</td>\n",
       "      <td>12</td>\n",
       "      <td>1971</td>\n",
       "      <td>NaN</td>\n",
       "      <td>coup</td>\n",
       "      <td>...</td>\n",
       "      <td>Süleyman Demirel</td>\n",
       "      <td>prime minister</td>\n",
       "      <td>Military Commanders</td>\n",
       "      <td>Nihat Erim</td>\n",
       "      <td>prime minister</td>\n",
       "      <td>Violence and strikes committed by left-wing st...</td>\n",
       "      <td>TR</td>\n",
       "      <td>AS</td>\n",
       "      <td>1971-03-01</td>\n",
       "      <td>1971-3</td>\n",
       "    </tr>\n",
       "    <tr>\n",
       "      <th>1017</th>\n",
       "      <td>1019</td>\n",
       "      <td>640.0</td>\n",
       "      <td>64091080</td>\n",
       "      <td>6.400910e+10</td>\n",
       "      <td>Turkey</td>\n",
       "      <td>9</td>\n",
       "      <td>10</td>\n",
       "      <td>1980</td>\n",
       "      <td>NaN</td>\n",
       "      <td>coup</td>\n",
       "      <td>...</td>\n",
       "      <td>Süleyman Demirel</td>\n",
       "      <td>prime minister</td>\n",
       "      <td>Gen. Kenan Evren</td>\n",
       "      <td>Evren</td>\n",
       "      <td>National Security Council junta chairman</td>\n",
       "      <td>Political paralysis, worsening Inflation, and ...</td>\n",
       "      <td>TR</td>\n",
       "      <td>AS</td>\n",
       "      <td>1980-09-01</td>\n",
       "      <td>1980-9</td>\n",
       "    </tr>\n",
       "    <tr>\n",
       "      <th>1018</th>\n",
       "      <td>1020</td>\n",
       "      <td>640.0</td>\n",
       "      <td>64063097</td>\n",
       "      <td>6.400630e+10</td>\n",
       "      <td>Turkey</td>\n",
       "      <td>6</td>\n",
       "      <td>30</td>\n",
       "      <td>1997</td>\n",
       "      <td>NaN</td>\n",
       "      <td>coup</td>\n",
       "      <td>...</td>\n",
       "      <td>Necettin Erbakan</td>\n",
       "      <td>prime minister</td>\n",
       "      <td>military leadership/National Security Council</td>\n",
       "      <td>Mesut Yilmaz</td>\n",
       "      <td>prime minister</td>\n",
       "      <td>The military forced the prime minister to sign...</td>\n",
       "      <td>TR</td>\n",
       "      <td>AS</td>\n",
       "      <td>1997-06-01</td>\n",
       "      <td>1997-6</td>\n",
       "    </tr>\n",
       "    <tr>\n",
       "      <th>1019</th>\n",
       "      <td>1021</td>\n",
       "      <td>701.0</td>\n",
       "      <td>7014.2002</td>\n",
       "      <td>7.010400e+10</td>\n",
       "      <td>Turkmenistan</td>\n",
       "      <td>4</td>\n",
       "      <td>0</td>\n",
       "      <td>2002</td>\n",
       "      <td>NaN</td>\n",
       "      <td>conspiracy coup</td>\n",
       "      <td>...</td>\n",
       "      <td>Saparmurat Niyazov</td>\n",
       "      <td>president/dictator</td>\n",
       "      <td>Muhammad Nazarov</td>\n",
       "      <td>.</td>\n",
       "      <td>.</td>\n",
       "      <td>Muhammad Nazarov conspired to overthrow Niyazo...</td>\n",
       "      <td>TM</td>\n",
       "      <td>AS</td>\n",
       "      <td>2002-04-01</td>\n",
       "      <td>2002-4</td>\n",
       "    </tr>\n",
       "    <tr>\n",
       "      <th>1032</th>\n",
       "      <td>1034</td>\n",
       "      <td>696.0</td>\n",
       "      <td>69661687</td>\n",
       "      <td>6.960616e+10</td>\n",
       "      <td>United Arab Emirates</td>\n",
       "      <td>6</td>\n",
       "      <td>16</td>\n",
       "      <td>1987</td>\n",
       "      <td>NaN</td>\n",
       "      <td>attempted coup</td>\n",
       "      <td>...</td>\n",
       "      <td>Zayed bin Sultan Al Nahyan</td>\n",
       "      <td>royal ruler</td>\n",
       "      <td>Sheikh Abdel Aziz bin Muhammed al Qassimi</td>\n",
       "      <td>.</td>\n",
       "      <td>.</td>\n",
       "      <td>A religious leader attempted a coup against th...</td>\n",
       "      <td>AE</td>\n",
       "      <td>AS</td>\n",
       "      <td>1987-06-01</td>\n",
       "      <td>1987-6</td>\n",
       "    </tr>\n",
       "  </tbody>\n",
       "</table>\n",
       "<p>244 rows × 23 columns</p>\n",
       "</div>"
      ],
      "text/plain": [
       "      Unnamed: 0    COW Old Coup ID#  New Coup ID#               country  \\\n",
       "0              1  700.0     70031063  7.000310e+10           Afghanistan   \n",
       "1              2  700.0     70071773  7.000717e+10           Afghanistan   \n",
       "2              3  700.0     70092073  7.000920e+10           Afghanistan   \n",
       "3              4  700.0    700113073  7.001130e+10           Afghanistan   \n",
       "4              5  700.0   70012.1973  7.001200e+10           Afghanistan   \n",
       "...          ...    ...          ...           ...                   ...   \n",
       "1016        1018  640.0     64031271  6.400312e+10                Turkey   \n",
       "1017        1019  640.0     64091080  6.400910e+10                Turkey   \n",
       "1018        1020  640.0     64063097  6.400630e+10                Turkey   \n",
       "1019        1021  701.0    7014.2002  7.010400e+10          Turkmenistan   \n",
       "1032        1034  696.0     69661687  6.960616e+10  United Arab Emirates   \n",
       "\n",
       "      month  day  year coup_id            event  ...  \\\n",
       "0         3   10  1963    Coup             coup  ...   \n",
       "1         7   17  1973    Coup             coup  ...   \n",
       "2         9   20  1973       0   attempted coup  ...   \n",
       "3        11   30  1973       0   attempted coup  ...   \n",
       "4        12    0  1973       0   attempted coup  ...   \n",
       "...     ...  ...   ...     ...              ...  ...   \n",
       "1016      3   12  1971     NaN             coup  ...   \n",
       "1017      9   10  1980     NaN             coup  ...   \n",
       "1018      6   30  1997     NaN             coup  ...   \n",
       "1019      4    0  2002     NaN  conspiracy coup  ...   \n",
       "1032      6   16  1987     NaN   attempted coup  ...   \n",
       "\n",
       "           Removed/ Targeted Name Removed Title/ Position  \\\n",
       "0           Sardar Mohammad Daoud          prime minister   \n",
       "1        King Mohammud Zahir Shah             royal ruler   \n",
       "2     General Mohammud Daoud Khan               president   \n",
       "3     General Mohammud Daoud Khan               president   \n",
       "4     General Mohammud Daoud Khan               president   \n",
       "...                           ...                     ...   \n",
       "1016             Süleyman Demirel          prime minister   \n",
       "1017             Süleyman Demirel          prime minister   \n",
       "1018             Necettin Erbakan          prime minister   \n",
       "1019           Saparmurat Niyazov      president/dictator   \n",
       "1032   Zayed bin Sultan Al Nahyan             royal ruler   \n",
       "\n",
       "                                   Initiator/ Suspected  \\\n",
       "0                                            Zahir Shah   \n",
       "1                           General Mohammud Daoud Khan   \n",
       "2     Mohammed Maiwandwal, Gen. Abdul Razak, Gen. Kh...   \n",
       "3                                   Gen. Mir Ahmed Shah   \n",
       "4                                         not specified   \n",
       "...                                                 ...   \n",
       "1016                                Military Commanders   \n",
       "1017                                   Gen. Kenan Evren   \n",
       "1018      military leadership/National Security Council   \n",
       "1019                                   Muhammad Nazarov   \n",
       "1032          Sheikh Abdel Aziz bin Muhammed al Qassimi   \n",
       "\n",
       "         Ascended Name/ Suspected       Ascended/ Suspected Title/ Position  \\\n",
       "0        King Mohammud Zahir Shah                               royal ruler   \n",
       "1     General Mohammud Daoud Khan                                 president   \n",
       "2                               .                                         .   \n",
       "3                               .                                         .   \n",
       "4                               .                                         .   \n",
       "...                           ...                                       ...   \n",
       "1016                   Nihat Erim                            prime minister   \n",
       "1017                        Evren  National Security Council junta chairman   \n",
       "1018                 Mesut Yilmaz                            prime minister   \n",
       "1019                            .                                         .   \n",
       "1032                            .                                         .   \n",
       "\n",
       "                                          Event Summary iso2 continent  \\\n",
       "0     A policy dispute resulted in the forced resign...   AF        AS   \n",
       "1     General Mohammud Daoud Khan overthrew the mona...   AF        AS   \n",
       "2     Former Prime Minister Maiwandwal and several m...   AF        AS   \n",
       "3     A General Mir Ahmed Shah attempted a coup agai...   AF        AS   \n",
       "4     Unspecified individuals attempted to overthrow...   AF        AS   \n",
       "...                                                 ...  ...       ...   \n",
       "1016  Violence and strikes committed by left-wing st...   TR        AS   \n",
       "1017  Political paralysis, worsening Inflation, and ...   TR        AS   \n",
       "1018  The military forced the prime minister to sign...   TR        AS   \n",
       "1019  Muhammad Nazarov conspired to overthrow Niyazo...   TM        AS   \n",
       "1032  A religious leader attempted a coup against th...   AE        AS   \n",
       "\n",
       "       datetime     date  \n",
       "0    1963-03-01   1963-3  \n",
       "1    1973-07-01   1973-7  \n",
       "2    1973-09-01   1973-9  \n",
       "3    1973-11-01  1973-11  \n",
       "4    1973-12-01  1973-12  \n",
       "...         ...      ...  \n",
       "1016 1971-03-01   1971-3  \n",
       "1017 1980-09-01   1980-9  \n",
       "1018 1997-06-01   1997-6  \n",
       "1019 2002-04-01   2002-4  \n",
       "1032 1987-06-01   1987-6  \n",
       "\n",
       "[244 rows x 23 columns]"
      ]
     },
     "execution_count": 136,
     "metadata": {},
     "output_type": "execute_result"
    }
   ],
   "source": [
    "asia"
   ]
  },
  {
   "cell_type": "code",
   "execution_count": 137,
   "metadata": {},
   "outputs": [
    {
     "data": {
      "text/html": [
       "<div>\n",
       "<style scoped>\n",
       "    .dataframe tbody tr th:only-of-type {\n",
       "        vertical-align: middle;\n",
       "    }\n",
       "\n",
       "    .dataframe tbody tr th {\n",
       "        vertical-align: top;\n",
       "    }\n",
       "\n",
       "    .dataframe thead th {\n",
       "        text-align: right;\n",
       "    }\n",
       "</style>\n",
       "<table border=\"1\" class=\"dataframe\">\n",
       "  <thead>\n",
       "    <tr style=\"text-align: right;\">\n",
       "      <th></th>\n",
       "      <th>Unnamed: 0</th>\n",
       "      <th>COW</th>\n",
       "      <th>Old Coup ID#</th>\n",
       "      <th>New Coup ID#</th>\n",
       "      <th>country</th>\n",
       "      <th>month</th>\n",
       "      <th>day</th>\n",
       "      <th>year</th>\n",
       "      <th>coup_id</th>\n",
       "      <th>event</th>\n",
       "      <th>...</th>\n",
       "      <th>Removed/ Targeted Name</th>\n",
       "      <th>Removed Title/ Position</th>\n",
       "      <th>Initiator/ Suspected</th>\n",
       "      <th>Ascended Name/ Suspected</th>\n",
       "      <th>Ascended/ Suspected Title/ Position</th>\n",
       "      <th>Event Summary</th>\n",
       "      <th>iso2</th>\n",
       "      <th>continent</th>\n",
       "      <th>datetime</th>\n",
       "      <th>date</th>\n",
       "    </tr>\n",
       "  </thead>\n",
       "  <tbody>\n",
       "    <tr>\n",
       "      <th>171</th>\n",
       "      <td>172</td>\n",
       "      <td>811.0</td>\n",
       "      <td>81131870</td>\n",
       "      <td>8.110318e+10</td>\n",
       "      <td>Cambodia</td>\n",
       "      <td>3</td>\n",
       "      <td>18</td>\n",
       "      <td>1970</td>\n",
       "      <td>Palace Coup</td>\n",
       "      <td>coup</td>\n",
       "      <td>...</td>\n",
       "      <td>Sihanouk</td>\n",
       "      <td>royal leader</td>\n",
       "      <td>Lon Nol and the legislature</td>\n",
       "      <td>Lon Nol</td>\n",
       "      <td>prime minister</td>\n",
       "      <td>Lon Nol and the Cambodian legislature voted to...</td>\n",
       "      <td>KH</td>\n",
       "      <td>AS</td>\n",
       "      <td>1970-03-01</td>\n",
       "      <td>1970-3</td>\n",
       "    </tr>\n",
       "    <tr>\n",
       "      <th>172</th>\n",
       "      <td>173</td>\n",
       "      <td>811.0</td>\n",
       "      <td>81131172</td>\n",
       "      <td>8.110311e+10</td>\n",
       "      <td>Cambodia</td>\n",
       "      <td>3</td>\n",
       "      <td>11</td>\n",
       "      <td>1972</td>\n",
       "      <td>Auto-Coup</td>\n",
       "      <td>coup</td>\n",
       "      <td>...</td>\n",
       "      <td>Cheng Heng</td>\n",
       "      <td>president</td>\n",
       "      <td>Lon Nol</td>\n",
       "      <td>Lon Nol</td>\n",
       "      <td>president</td>\n",
       "      <td>Nol took advantage of a crisis to remove Heng ...</td>\n",
       "      <td>KH</td>\n",
       "      <td>AS</td>\n",
       "      <td>1972-03-01</td>\n",
       "      <td>1972-3</td>\n",
       "    </tr>\n",
       "    <tr>\n",
       "      <th>173</th>\n",
       "      <td>174</td>\n",
       "      <td>811.0</td>\n",
       "      <td>8114175</td>\n",
       "      <td>8.110401e+10</td>\n",
       "      <td>Cambodia</td>\n",
       "      <td>4</td>\n",
       "      <td>1</td>\n",
       "      <td>1975</td>\n",
       "      <td>Civil War</td>\n",
       "      <td>coup</td>\n",
       "      <td>...</td>\n",
       "      <td>Lon Nol</td>\n",
       "      <td>president</td>\n",
       "      <td>Khmer Rouge Rebels</td>\n",
       "      <td>Saukam Khoy</td>\n",
       "      <td>acting president</td>\n",
       "      <td>Nol resigned and fled Cambodia as the Khmer re...</td>\n",
       "      <td>KH</td>\n",
       "      <td>AS</td>\n",
       "      <td>1975-04-01</td>\n",
       "      <td>1975-4</td>\n",
       "    </tr>\n",
       "    <tr>\n",
       "      <th>174</th>\n",
       "      <td>175</td>\n",
       "      <td>811.0</td>\n",
       "      <td>8119.1975</td>\n",
       "      <td>8.110900e+10</td>\n",
       "      <td>Cambodia</td>\n",
       "      <td>9</td>\n",
       "      <td>0</td>\n",
       "      <td>1975</td>\n",
       "      <td>0</td>\n",
       "      <td>attempted coup</td>\n",
       "      <td>...</td>\n",
       "      <td>Pol Pot</td>\n",
       "      <td>party chairman</td>\n",
       "      <td>not known</td>\n",
       "      <td>.</td>\n",
       "      <td>.</td>\n",
       "      <td>An attempted coup against the Pol Pot revoluti...</td>\n",
       "      <td>KH</td>\n",
       "      <td>AS</td>\n",
       "      <td>1975-09-01</td>\n",
       "      <td>1975-9</td>\n",
       "    </tr>\n",
       "    <tr>\n",
       "      <th>175</th>\n",
       "      <td>176</td>\n",
       "      <td>811.0</td>\n",
       "      <td>8114.1976</td>\n",
       "      <td>8.110400e+10</td>\n",
       "      <td>Cambodia</td>\n",
       "      <td>4</td>\n",
       "      <td>0</td>\n",
       "      <td>1976</td>\n",
       "      <td>0</td>\n",
       "      <td>attempted coup</td>\n",
       "      <td>...</td>\n",
       "      <td>Pol Pot</td>\n",
       "      <td>party chairman</td>\n",
       "      <td>unspecified</td>\n",
       "      <td>.</td>\n",
       "      <td>.</td>\n",
       "      <td>Unspecified individuals attempted to topple th...</td>\n",
       "      <td>KH</td>\n",
       "      <td>AS</td>\n",
       "      <td>1976-04-01</td>\n",
       "      <td>1976-4</td>\n",
       "    </tr>\n",
       "    <tr>\n",
       "      <th>...</th>\n",
       "      <td>...</td>\n",
       "      <td>...</td>\n",
       "      <td>...</td>\n",
       "      <td>...</td>\n",
       "      <td>...</td>\n",
       "      <td>...</td>\n",
       "      <td>...</td>\n",
       "      <td>...</td>\n",
       "      <td>...</td>\n",
       "      <td>...</td>\n",
       "      <td>...</td>\n",
       "      <td>...</td>\n",
       "      <td>...</td>\n",
       "      <td>...</td>\n",
       "      <td>...</td>\n",
       "      <td>...</td>\n",
       "      <td>...</td>\n",
       "      <td>...</td>\n",
       "      <td>...</td>\n",
       "      <td>...</td>\n",
       "      <td>...</td>\n",
       "    </tr>\n",
       "    <tr>\n",
       "      <th>984</th>\n",
       "      <td>986</td>\n",
       "      <td>800.0</td>\n",
       "      <td>800102077</td>\n",
       "      <td>8.001020e+10</td>\n",
       "      <td>Thailand</td>\n",
       "      <td>10</td>\n",
       "      <td>20</td>\n",
       "      <td>1977</td>\n",
       "      <td>NaN</td>\n",
       "      <td>coup</td>\n",
       "      <td>...</td>\n",
       "      <td>Thanin Kraivichien</td>\n",
       "      <td>prime minister</td>\n",
       "      <td>Admiral Sangad</td>\n",
       "      <td>Sangad</td>\n",
       "      <td>Administrative Reform Council junta</td>\n",
       "      <td>Sangad overthrew the prime minister whom he ac...</td>\n",
       "      <td>TH</td>\n",
       "      <td>AS</td>\n",
       "      <td>1977-10-01</td>\n",
       "      <td>1977-10</td>\n",
       "    </tr>\n",
       "    <tr>\n",
       "      <th>985</th>\n",
       "      <td>987</td>\n",
       "      <td>800.0</td>\n",
       "      <td>8004181</td>\n",
       "      <td>8.000401e+10</td>\n",
       "      <td>Thailand</td>\n",
       "      <td>4</td>\n",
       "      <td>1</td>\n",
       "      <td>1981</td>\n",
       "      <td>NaN</td>\n",
       "      <td>attempted coup</td>\n",
       "      <td>...</td>\n",
       "      <td>Prem Tinsulanond</td>\n",
       "      <td>Prime Minister</td>\n",
       "      <td>Gen. Sant Chitpatima</td>\n",
       "      <td>.</td>\n",
       "      <td>.</td>\n",
       "      <td>Reformist Colonels attempted a coup against th...</td>\n",
       "      <td>TH</td>\n",
       "      <td>AS</td>\n",
       "      <td>1981-04-01</td>\n",
       "      <td>1981-4</td>\n",
       "    </tr>\n",
       "    <tr>\n",
       "      <th>986</th>\n",
       "      <td>988</td>\n",
       "      <td>800.0</td>\n",
       "      <td>8007484</td>\n",
       "      <td>8.000704e+10</td>\n",
       "      <td>Thailand</td>\n",
       "      <td>7</td>\n",
       "      <td>4</td>\n",
       "      <td>1984</td>\n",
       "      <td>NaN</td>\n",
       "      <td>conspiracy coup</td>\n",
       "      <td>...</td>\n",
       "      <td>Prem Tinsulanond</td>\n",
       "      <td>Prime Minister</td>\n",
       "      <td>communist party</td>\n",
       "      <td>.</td>\n",
       "      <td>.</td>\n",
       "      <td>Members of the outlawed communist party conspi...</td>\n",
       "      <td>TH</td>\n",
       "      <td>AS</td>\n",
       "      <td>1984-07-01</td>\n",
       "      <td>1984-7</td>\n",
       "    </tr>\n",
       "    <tr>\n",
       "      <th>987</th>\n",
       "      <td>989</td>\n",
       "      <td>800.0</td>\n",
       "      <td>8009985</td>\n",
       "      <td>8.000909e+10</td>\n",
       "      <td>Thailand</td>\n",
       "      <td>9</td>\n",
       "      <td>9</td>\n",
       "      <td>1985</td>\n",
       "      <td>NaN</td>\n",
       "      <td>attempted coup</td>\n",
       "      <td>...</td>\n",
       "      <td>Prem Tinsulanond</td>\n",
       "      <td>Prime Minister</td>\n",
       "      <td>incl. Col. Manoon Rupkachorn, Wing Comm. Manat...</td>\n",
       "      <td>.</td>\n",
       "      <td>.</td>\n",
       "      <td>The leaders from the April 1st coup attempt on...</td>\n",
       "      <td>TH</td>\n",
       "      <td>AS</td>\n",
       "      <td>1985-09-01</td>\n",
       "      <td>1985-9</td>\n",
       "    </tr>\n",
       "    <tr>\n",
       "      <th>988</th>\n",
       "      <td>990</td>\n",
       "      <td>800.0</td>\n",
       "      <td>80022391</td>\n",
       "      <td>8.000223e+10</td>\n",
       "      <td>Thailand</td>\n",
       "      <td>2</td>\n",
       "      <td>23</td>\n",
       "      <td>1991</td>\n",
       "      <td>NaN</td>\n",
       "      <td>coup</td>\n",
       "      <td>...</td>\n",
       "      <td>Chatichai Choonhavan</td>\n",
       "      <td>Prime Minister</td>\n",
       "      <td>Gen. Sunthorn Kongsompong</td>\n",
       "      <td>Sunthorn Kongsompong</td>\n",
       "      <td>National Peacekeeping Council junta chairman</td>\n",
       "      <td>The military overthrew Choonhavan because of t...</td>\n",
       "      <td>TH</td>\n",
       "      <td>AS</td>\n",
       "      <td>1991-02-01</td>\n",
       "      <td>1991-2</td>\n",
       "    </tr>\n",
       "  </tbody>\n",
       "</table>\n",
       "<p>73 rows × 23 columns</p>\n",
       "</div>"
      ],
      "text/plain": [
       "     Unnamed: 0    COW Old Coup ID#  New Coup ID#   country  month  day  year  \\\n",
       "171         172  811.0     81131870  8.110318e+10  Cambodia      3   18  1970   \n",
       "172         173  811.0     81131172  8.110311e+10  Cambodia      3   11  1972   \n",
       "173         174  811.0      8114175  8.110401e+10  Cambodia      4    1  1975   \n",
       "174         175  811.0    8119.1975  8.110900e+10  Cambodia      9    0  1975   \n",
       "175         176  811.0    8114.1976  8.110400e+10  Cambodia      4    0  1976   \n",
       "..          ...    ...          ...           ...       ...    ...  ...   ...   \n",
       "984         986  800.0    800102077  8.001020e+10  Thailand     10   20  1977   \n",
       "985         987  800.0      8004181  8.000401e+10  Thailand      4    1  1981   \n",
       "986         988  800.0      8007484  8.000704e+10  Thailand      7    4  1984   \n",
       "987         989  800.0      8009985  8.000909e+10  Thailand      9    9  1985   \n",
       "988         990  800.0     80022391  8.000223e+10  Thailand      2   23  1991   \n",
       "\n",
       "         coup_id            event  ... Removed/ Targeted Name  \\\n",
       "171  Palace Coup             coup  ...               Sihanouk   \n",
       "172    Auto-Coup             coup  ...             Cheng Heng   \n",
       "173    Civil War             coup  ...                Lon Nol   \n",
       "174            0   attempted coup  ...                Pol Pot   \n",
       "175            0   attempted coup  ...                Pol Pot   \n",
       "..           ...              ...  ...                    ...   \n",
       "984          NaN             coup  ...     Thanin Kraivichien   \n",
       "985          NaN   attempted coup  ...       Prem Tinsulanond   \n",
       "986          NaN  conspiracy coup  ...       Prem Tinsulanond   \n",
       "987          NaN   attempted coup  ...       Prem Tinsulanond   \n",
       "988          NaN             coup  ...   Chatichai Choonhavan   \n",
       "\n",
       "    Removed Title/ Position  \\\n",
       "171            royal leader   \n",
       "172               president   \n",
       "173               president   \n",
       "174          party chairman   \n",
       "175          party chairman   \n",
       "..                      ...   \n",
       "984          prime minister   \n",
       "985          Prime Minister   \n",
       "986          Prime Minister   \n",
       "987          Prime Minister   \n",
       "988          Prime Minister   \n",
       "\n",
       "                                  Initiator/ Suspected  \\\n",
       "171                        Lon Nol and the legislature   \n",
       "172                                            Lon Nol   \n",
       "173                                 Khmer Rouge Rebels   \n",
       "174                                          not known   \n",
       "175                                        unspecified   \n",
       "..                                                 ...   \n",
       "984                                     Admiral Sangad   \n",
       "985                               Gen. Sant Chitpatima   \n",
       "986                                    communist party   \n",
       "987  incl. Col. Manoon Rupkachorn, Wing Comm. Manat...   \n",
       "988                          Gen. Sunthorn Kongsompong   \n",
       "\n",
       "    Ascended Name/ Suspected           Ascended/ Suspected Title/ Position  \\\n",
       "171                  Lon Nol                                prime minister   \n",
       "172                  Lon Nol                                     president   \n",
       "173              Saukam Khoy                              acting president   \n",
       "174                        .                                             .   \n",
       "175                        .                                             .   \n",
       "..                       ...                                           ...   \n",
       "984                   Sangad           Administrative Reform Council junta   \n",
       "985                        .                                             .   \n",
       "986                        .                                             .   \n",
       "987                        .                                             .   \n",
       "988     Sunthorn Kongsompong  National Peacekeeping Council junta chairman   \n",
       "\n",
       "                                         Event Summary iso2 continent  \\\n",
       "171  Lon Nol and the Cambodian legislature voted to...   KH        AS   \n",
       "172  Nol took advantage of a crisis to remove Heng ...   KH        AS   \n",
       "173  Nol resigned and fled Cambodia as the Khmer re...   KH        AS   \n",
       "174  An attempted coup against the Pol Pot revoluti...   KH        AS   \n",
       "175  Unspecified individuals attempted to topple th...   KH        AS   \n",
       "..                                                 ...  ...       ...   \n",
       "984  Sangad overthrew the prime minister whom he ac...   TH        AS   \n",
       "985  Reformist Colonels attempted a coup against th...   TH        AS   \n",
       "986  Members of the outlawed communist party conspi...   TH        AS   \n",
       "987  The leaders from the April 1st coup attempt on...   TH        AS   \n",
       "988  The military overthrew Choonhavan because of t...   TH        AS   \n",
       "\n",
       "      datetime     date  \n",
       "171 1970-03-01   1970-3  \n",
       "172 1972-03-01   1972-3  \n",
       "173 1975-04-01   1975-4  \n",
       "174 1975-09-01   1975-9  \n",
       "175 1976-04-01   1976-4  \n",
       "..         ...      ...  \n",
       "984 1977-10-01  1977-10  \n",
       "985 1981-04-01   1981-4  \n",
       "986 1984-07-01   1984-7  \n",
       "987 1985-09-01   1985-9  \n",
       "988 1991-02-01   1991-2  \n",
       "\n",
       "[73 rows x 23 columns]"
      ]
     },
     "execution_count": 137,
     "metadata": {},
     "output_type": "execute_result"
    }
   ],
   "source": [
    "df_sea = asia[asia['country'].isin(sea)]\n",
    "df_sea"
   ]
  },
  {
   "cell_type": "code",
   "execution_count": 139,
   "metadata": {},
   "outputs": [
    {
     "data": {
      "image/png": "[encoded data removed]",
      "text/plain": [
       "<Figure size 1440x720 with 1 Axes>"
      ]
     },
     "metadata": {
      "needs_background": "light"
     },
     "output_type": "display_data"
    }
   ],
   "source": [
    "fig, ax = plt.subplots(1,1, figsize=(20, 10))\n",
    "ax = sns.swarmplot(x=\"datetime\", y=\"country\", data=df_sea, hue=\"realized\", size=10)\n",
    "plt.grid()"
   ]
  },
  {
   "cell_type": "markdown",
   "metadata": {},
   "source": [
    "## Save results"
   ]
  },
  {
   "cell_type": "code",
   "execution_count": 117,
   "metadata": {},
   "outputs": [],
   "source": [
    "df.to_csv('coup_clean.csv')"
   ]
  },
  {
   "cell_type": "code",
   "execution_count": null,
   "metadata": {},
   "outputs": [],
   "source": []
  }
 ],
 "metadata": {
  "kernelspec": {
   "display_name": "Python 3",
   "language": "python",
   "name": "python3"
  },
  "language_info": {
   "codemirror_mode": {
    "name": "ipython",
    "version": 3
   },
   "file_extension": ".py",
   "mimetype": "text/x-python",
   "name": "python",
   "nbconvert_exporter": "python",
   "pygments_lexer": "ipython3",
   "version": "3.7.6"
  }
 },
 "nbformat": 4,
 "nbformat_minor": 4
}
